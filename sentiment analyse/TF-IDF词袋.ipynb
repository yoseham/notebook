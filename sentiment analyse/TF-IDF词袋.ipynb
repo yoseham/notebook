{
 "cells": [
  {
   "cell_type": "markdown",
   "metadata": {},
   "source": [
    "# 情感分析"
   ]
  },
  {
   "cell_type": "markdown",
   "metadata": {},
   "source": [
    "## 1.导入数据"
   ]
  },
  {
   "cell_type": "code",
   "execution_count": 1,
   "metadata": {},
   "outputs": [
    {
     "data": {
      "text/plain": [
       "array([0., 1., 0., ..., 0., 0., 1.])"
      ]
     },
     "execution_count": 1,
     "metadata": {},
     "output_type": "execute_result"
    }
   ],
   "source": [
    "import pandas as pd\n",
    "d = pd.read_csv(\"train.csv\",lineterminator='\\n')\n",
    "import numpy as np\n",
    "Y = np.array(d.label == \"Positive\",dtype = 'float')\n",
    "Y"
   ]
  },
  {
   "cell_type": "code",
   "execution_count": 2,
   "metadata": {},
   "outputs": [
    {
     "data": {
      "text/plain": [
       "0                            Jo bhi ap se tou behtar hoon\n",
       "1               ya Allah meri sister Affia ki madad farma\n",
       "2       Yeh khud chahta a is umar main shadi krna.  ha...\n",
       "3             Tc ? Apky mun xe exe alfax achy nae lgty 😒💃\n",
       "4                                                    Good\n",
       "5       American president John f Kennedy aur in ke bh...\n",
       "6        Commission aur kickback ka dor Dora raha, quo...\n",
       "7       Allah pak nazer e bd sy bechye or humesha boha...\n",
       "8       Amoman log samajhte hain ke jhok siyal hi Abid...\n",
       "9       Akki KhanYani k tum ....... v good Wesy tum sh...\n",
       "10      Jail Road Pr Firing Se 1 Shaks Janbahaq Rpt M ...\n",
       "11      hud hagai stupid actor hy.....acting ati he na...\n",
       "12                                Haha thank you so much \n",
       "13      Pakistani cricket ki tareekh ka behtreen batsm...\n",
       "14      Nawaz Sharif ko Pakro Harimi Police walo Tum l...\n",
       "15                   Kash MERI MAAN ZINDA HOTI...........\n",
       "16      5 Billion Dollor se zaid akhrajat ka takhmina ...\n",
       "17      Kisi larki kay sat selfie lana tum hay maut ki...\n",
       "18      NAMAZ E ZUHAR Hamari Aamdani Mein Izafa Karti ...\n",
       "19      Wasy ma sporting lahore ki team ko kr raha tha...\n",
       "20                               Duoan main yad rakhay ga\n",
       "21      Hum sab ko milkar Pakistan aur islami aqdaar k...\n",
       "22      Dar asal in k parents bhi nachney ganey waley ...\n",
       "23          Mujhay tou dusri dafa sacha pyaar ho gaya hai\n",
       "24                                         aur mein nai 😂\n",
       "25                        Hazrat Sahab Dua ke darkast ha.\n",
       "26      In ke jaise shohar bano, in ke jaise sabiq sho...\n",
       "27       Hamare intellectual ise aik sub standard mawa...\n",
       "28                   Tab aik sadabahar geet ne janam liya\n",
       "29      Aye Logo, Apni Aurto KoSingarwala Libas Pahenk...\n",
       "                              ...                        \n",
       "6301           Nahi apk jese itne ooonche shoq kahan mere\n",
       "6302    Last night in Dono Marches ko mila kar support...\n",
       "6303    Ab to sajna sawrna chor do ab to ham ko. Milna...\n",
       "6304    Humhain kiya apna mulk dekho phr unka dekhna h...\n",
       "6305                                           anmol baat\n",
       "6306                                           Is waqat M\n",
       "6307                       Ap ki app working ni kr rhi ha\n",
       "6308    ICC Ka Salman Butt Or Asif Pr 1st Sep Se Paban...\n",
       "6309                      Nice assalam o alikom kce he ap\n",
       "6310            Chor chor hota ha her jega dandi.Marta ha\n",
       "6311                          Hahahaha  meesni ifywim 😂😂😂\n",
       "6312    likha coat hai bhaj sweeter di hai wo b gandi ...\n",
       "6313    Drama acha hai Funny bhi hai Billo Aur Shano k...\n",
       "6314     General Pervaiz Musharraf ki sarbarahi mein u...\n",
       "6315    Allah pak maray murshad ke our maray murshed k...\n",
       "6316                 Qeemat k lihaz sy behtreen hain yaar\n",
       "6317    Tum se kam hu acha beghairto aur kya huwa uska...\n",
       "6318                                 Allah Ap salamt raky\n",
       "6319                             wasy hi acha lag raha ha\n",
       "6320    Salam Alekum, bhaiyon! Kya haal hai? Kaise cha...\n",
       "6321     Tahum bad mein barhe paimane par tabahi phela...\n",
       "6322         Teer Pehla Kis Ny Mara Ye Kahani Phir Sahi  \n",
       "6323                                  Pagal ho gaya ha ye\n",
       "6324    Landhi Mn Bijli Bandish Se Parayshan Awam Ka M...\n",
       "6325     Koi nojawanon mein, koi khawaten mein aur kis...\n",
       "6326                                         Hahaha xctly\n",
       "6327    ATC Adalat Ne Liaqutabad Se Giriftar MQM Ka Ka...\n",
       "6328                              Korangi Me Shani Qatal \n",
       "6329    Ma na suna ha lemon sa haddiyan kamzor hoti hn...\n",
       "6330    Ball poar jadooi giraft se inhe rafter aur swi...\n",
       "Name: review, Length: 6331, dtype: object"
      ]
     },
     "execution_count": 2,
     "metadata": {},
     "output_type": "execute_result"
    }
   ],
   "source": [
    "X = d.review\n",
    "X"
   ]
  },
  {
   "cell_type": "markdown",
   "metadata": {},
   "source": [
    "## 2.特征工程，分词器"
   ]
  },
  {
   "cell_type": "code",
   "execution_count": 3,
   "metadata": {},
   "outputs": [
    {
     "data": {
      "text/plain": [
       "['Hahahhahhhhahahahahahhahahh',\n",
       " 'oy',\n",
       " 'hmko',\n",
       " 'to',\n",
       " 'mrd',\n",
       " 'e',\n",
       " 'ni',\n",
       " 'milta',\n",
       " 'tu',\n",
       " 'the',\n",
       " 'kamyab',\n",
       " 'mrd',\n",
       " 'dhoondny',\n",
       " 'ki',\n",
       " 'baat',\n",
       " 'kra',\n",
       " 'hy',\n",
       " '🤣',\n",
       " '🤣',\n",
       " '🤣',\n",
       " '😆',\n",
       " '😆',\n",
       " '😆',\n",
       " '😭',\n",
       " '😭',\n",
       " '😭',\n",
       " '😭']"
      ]
     },
     "execution_count": 3,
     "metadata": {},
     "output_type": "execute_result"
    }
   ],
   "source": [
    "import re\n",
    "import nltk\n",
    "import string\n",
    "\n",
    "emoticons_str = r\"\"\"\n",
    "    (?:\n",
    "        [:=;]   \n",
    "        [oO\\-]?  \n",
    "        [D\\)\\]\\(\\]/\\\\OpP] \n",
    "    )\"\"\"\n",
    "\n",
    "regex_str = [\n",
    "    emoticons_str,\n",
    "    r'<[^>]+>',  # HTML\n",
    "    r'(?:@[\\w_]+)',  # @\n",
    "    r\"(?:\\#+[\\w_]+[\\w\\'_\\-]*[\\w]+)\",  # 话题标签\n",
    "    r'http[s]?://(?:[a-z]|[0-9]|[$-_@.&amp;+]|[!*\\(\\),]|(?:%[0-9a-f][0-9a-f]))+',  # URLs\n",
    "    r\"(?:[a-z][a-z'\\-_]+[a-z])\",  # 含有- 和’ 的单词\n",
    "    r'(?:[\\w_]+)',  # 其他_\n",
    "    r'(?:\\S)'  # 所有匹配\n",
    "]\n",
    "\n",
    "tokens_re = re.compile(r'(' + '|'.join(regex_str) + ')', re.VERBOSE | re.IGNORECASE)\n",
    "emoticon_re=re.compile(r'^'+emoticons_str+'$',re.VERBOSE|re.IGNORECASE)\n",
    "\n",
    "def tokenizer_porter(text):\n",
    "    punc = string.punctuation\n",
    "    tokens = tokens_re.findall(text)\n",
    "    return [word for word in tokens if word not in punc and not word.isdigit()]\n",
    "tokenizer_porter(\"Hahahhahhhhahahahahahhahahh oy hmko to mrd e ni ????  123 milta tu the kamyab mrd dhoondny ki baat kra hy 🤣🤣🤣😆😆😆😭😭😭😭\")"
   ]
  },
  {
   "cell_type": "markdown",
   "metadata": {},
   "source": [
    "## 3.GridSearchCV tfidf+lr"
   ]
  },
  {
   "cell_type": "code",
   "execution_count": 15,
   "metadata": {},
   "outputs": [
    {
     "name": "stdout",
     "output_type": "stream",
     "text": [
      "Fitting 5 folds for each of 16 candidates, totalling 80 fits\n"
     ]
    },
    {
     "name": "stderr",
     "output_type": "stream",
     "text": [
      "[Parallel(n_jobs=-1)]: Using backend LokyBackend with 4 concurrent workers.\n",
      "[Parallel(n_jobs=-1)]: Done  42 tasks      | elapsed:  1.7min\n",
      "[Parallel(n_jobs=-1)]: Done  80 out of  80 | elapsed:  3.1min finished\n"
     ]
    },
    {
     "name": "stdout",
     "output_type": "stream",
     "text": [
      "{'clf__C': 100.0, 'clf__penalty': 'l2', 'vect__ngram_range': (1, 2), 'vect__tokenizer': None}\n"
     ]
    },
    {
     "name": "stderr",
     "output_type": "stream",
     "text": [
      "/home/yang/miniconda3/lib/python3.7/site-packages/sklearn/linear_model/logistic.py:433: FutureWarning: Default solver will be changed to 'lbfgs' in 0.22. Specify a solver to silence this warning.\n",
      "  FutureWarning)\n"
     ]
    }
   ],
   "source": [
    "from sklearn.feature_extraction.text import TfidfVectorizer\n",
    "from sklearn.linear_model import LogisticRegression\n",
    "from sklearn.model_selection import GridSearchCV\n",
    "from sklearn.pipeline import Pipeline\n",
    "tfidf = TfidfVectorizer()\n",
    "param_grid = [{\n",
    "              \"vect__tokenizer\":[tokenizer_porter,None],\n",
    "              \"clf__penalty\":[\"l1\",\"l2\"],\n",
    "              \"clf__C\":[0.1,1.0,10.0,100.0]}\n",
    "             ]\n",
    "lr_tfidf = Pipeline([('vect',tfidf),('clf',LogisticRegression(random_state=0))])\n",
    "                \n",
    "gs_lr_tfid = GridSearchCV(lr_tfidf,param_grid,scoring='roc_auc',cv=5,verbose=1,n_jobs=-1)\n",
    "                \n",
    "gs_lr_tfid.fit(X,Y)\n",
    "print(gs_lr_tfid.best_params_)\n",
    "print(gs_lr_tfid.best_score_)"
   ]
  },
  {
   "cell_type": "markdown",
   "metadata": {},
   "source": [
    "### tfidf+lr"
   ]
  },
  {
   "cell_type": "code",
   "execution_count": 17,
   "metadata": {
    "scrolled": true
   },
   "outputs": [
    {
     "name": "stderr",
     "output_type": "stream",
     "text": [
      "/home/yang/miniconda3/lib/python3.7/site-packages/sklearn/linear_model/logistic.py:433: FutureWarning: Default solver will be changed to 'lbfgs' in 0.22. Specify a solver to silence this warning.\n",
      "  FutureWarning)\n",
      "/home/yang/miniconda3/lib/python3.7/site-packages/sklearn/linear_model/logistic.py:433: FutureWarning: Default solver will be changed to 'lbfgs' in 0.22. Specify a solver to silence this warning.\n",
      "  FutureWarning)\n",
      "/home/yang/miniconda3/lib/python3.7/site-packages/sklearn/linear_model/logistic.py:433: FutureWarning: Default solver will be changed to 'lbfgs' in 0.22. Specify a solver to silence this warning.\n",
      "  FutureWarning)\n",
      "/home/yang/miniconda3/lib/python3.7/site-packages/sklearn/linear_model/logistic.py:433: FutureWarning: Default solver will be changed to 'lbfgs' in 0.22. Specify a solver to silence this warning.\n",
      "  FutureWarning)\n",
      "/home/yang/miniconda3/lib/python3.7/site-packages/sklearn/linear_model/logistic.py:433: FutureWarning: Default solver will be changed to 'lbfgs' in 0.22. Specify a solver to silence this warning.\n",
      "  FutureWarning)\n",
      "/home/yang/miniconda3/lib/python3.7/site-packages/sklearn/linear_model/logistic.py:433: FutureWarning: Default solver will be changed to 'lbfgs' in 0.22. Specify a solver to silence this warning.\n",
      "  FutureWarning)\n",
      "/home/yang/miniconda3/lib/python3.7/site-packages/sklearn/linear_model/logistic.py:433: FutureWarning: Default solver will be changed to 'lbfgs' in 0.22. Specify a solver to silence this warning.\n",
      "  FutureWarning)\n",
      "/home/yang/miniconda3/lib/python3.7/site-packages/sklearn/linear_model/logistic.py:433: FutureWarning: Default solver will be changed to 'lbfgs' in 0.22. Specify a solver to silence this warning.\n",
      "  FutureWarning)\n",
      "/home/yang/miniconda3/lib/python3.7/site-packages/sklearn/linear_model/logistic.py:433: FutureWarning: Default solver will be changed to 'lbfgs' in 0.22. Specify a solver to silence this warning.\n",
      "  FutureWarning)\n",
      "/home/yang/miniconda3/lib/python3.7/site-packages/sklearn/linear_model/logistic.py:433: FutureWarning: Default solver will be changed to 'lbfgs' in 0.22. Specify a solver to silence this warning.\n",
      "  FutureWarning)\n"
     ]
    },
    {
     "data": {
      "text/plain": [
       "0.8543895924578919"
      ]
     },
     "execution_count": 17,
     "metadata": {},
     "output_type": "execute_result"
    }
   ],
   "source": [
    "from sklearn.model_selection import cross_val_score\n",
    "best_tfidf = TfidfVectorizer(tokenizer = tokenizer_porter,ngram_range=(1, 2),max_df=0.5)\n",
    "best_lr_tfidf = LogisticRegression(C=100.0, penalty='l2')\n",
    "cross_result = cross_val_score(best_lr_tfidf,best_tfidf.fit_transform(X),Y,cv=10,scoring='roc_auc')\n",
    "np.mean(cross_result)"
   ]
  },
  {
   "cell_type": "markdown",
   "metadata": {},
   "source": [
    "### tfidf+NB"
   ]
  },
  {
   "cell_type": "code",
   "execution_count": 4,
   "metadata": {},
   "outputs": [
    {
     "data": {
      "text/plain": [
       "0                            Jo bhi ap se tou behtar hoon\n",
       "1               ya Allah meri sister Affia ki madad farma\n",
       "2       Yeh khud chahta a is umar main shadi krna.  ha...\n",
       "3             Tc ? Apky mun xe exe alfax achy nae lgty 😒💃\n",
       "4                                                    Good\n",
       "5       American president John f Kennedy aur in ke bh...\n",
       "6        Commission aur kickback ka dor Dora raha, quo...\n",
       "7       Allah pak nazer e bd sy bechye or humesha boha...\n",
       "8       Amoman log samajhte hain ke jhok siyal hi Abid...\n",
       "9       Akki KhanYani k tum ....... v good Wesy tum sh...\n",
       "10      Jail Road Pr Firing Se 1 Shaks Janbahaq Rpt M ...\n",
       "11      hud hagai stupid actor hy.....acting ati he na...\n",
       "12                                Haha thank you so much \n",
       "13      Pakistani cricket ki tareekh ka behtreen batsm...\n",
       "14      Nawaz Sharif ko Pakro Harimi Police walo Tum l...\n",
       "15                   Kash MERI MAAN ZINDA HOTI...........\n",
       "16      5 Billion Dollor se zaid akhrajat ka takhmina ...\n",
       "17      Kisi larki kay sat selfie lana tum hay maut ki...\n",
       "18      NAMAZ E ZUHAR Hamari Aamdani Mein Izafa Karti ...\n",
       "19      Wasy ma sporting lahore ki team ko kr raha tha...\n",
       "20                               Duoan main yad rakhay ga\n",
       "21      Hum sab ko milkar Pakistan aur islami aqdaar k...\n",
       "22      Dar asal in k parents bhi nachney ganey waley ...\n",
       "23          Mujhay tou dusri dafa sacha pyaar ho gaya hai\n",
       "24                                         aur mein nai 😂\n",
       "25                        Hazrat Sahab Dua ke darkast ha.\n",
       "26      In ke jaise shohar bano, in ke jaise sabiq sho...\n",
       "27       Hamare intellectual ise aik sub standard mawa...\n",
       "28                   Tab aik sadabahar geet ne janam liya\n",
       "29      Aye Logo, Apni Aurto KoSingarwala Libas Pahenk...\n",
       "                              ...                        \n",
       "6301           Nahi apk jese itne ooonche shoq kahan mere\n",
       "6302    Last night in Dono Marches ko mila kar support...\n",
       "6303    Ab to sajna sawrna chor do ab to ham ko. Milna...\n",
       "6304    Humhain kiya apna mulk dekho phr unka dekhna h...\n",
       "6305                                           anmol baat\n",
       "6306                                           Is waqat M\n",
       "6307                       Ap ki app working ni kr rhi ha\n",
       "6308    ICC Ka Salman Butt Or Asif Pr 1st Sep Se Paban...\n",
       "6309                      Nice assalam o alikom kce he ap\n",
       "6310            Chor chor hota ha her jega dandi.Marta ha\n",
       "6311                          Hahahaha  meesni ifywim 😂😂😂\n",
       "6312    likha coat hai bhaj sweeter di hai wo b gandi ...\n",
       "6313    Drama acha hai Funny bhi hai Billo Aur Shano k...\n",
       "6314     General Pervaiz Musharraf ki sarbarahi mein u...\n",
       "6315    Allah pak maray murshad ke our maray murshed k...\n",
       "6316                 Qeemat k lihaz sy behtreen hain yaar\n",
       "6317    Tum se kam hu acha beghairto aur kya huwa uska...\n",
       "6318                                 Allah Ap salamt raky\n",
       "6319                             wasy hi acha lag raha ha\n",
       "6320    Salam Alekum, bhaiyon! Kya haal hai? Kaise cha...\n",
       "6321     Tahum bad mein barhe paimane par tabahi phela...\n",
       "6322         Teer Pehla Kis Ny Mara Ye Kahani Phir Sahi  \n",
       "6323                                  Pagal ho gaya ha ye\n",
       "6324    Landhi Mn Bijli Bandish Se Parayshan Awam Ka M...\n",
       "6325     Koi nojawanon mein, koi khawaten mein aur kis...\n",
       "6326                                         Hahaha xctly\n",
       "6327    ATC Adalat Ne Liaqutabad Se Giriftar MQM Ka Ka...\n",
       "6328                              Korangi Me Shani Qatal \n",
       "6329    Ma na suna ha lemon sa haddiyan kamzor hoti hn...\n",
       "6330    Ball poar jadooi giraft se inhe rafter aur swi...\n",
       "Name: review, Length: 6331, dtype: object"
      ]
     },
     "execution_count": 4,
     "metadata": {},
     "output_type": "execute_result"
    }
   ],
   "source": [
    "from sklearn.feature_extraction.text import TfidfVectorizer\n",
    "from sklearn.model_selection import cross_val_score\n",
    "from sklearn.naive_bayes import MultinomialNB\n",
    "mnb = MultinomialNB()\n",
    "tfidf = TfidfVectorizer(tokenizer = tokenizer_porter)\n",
    "features = tfidf.fit_transform(X);\n",
    "cross_result = cross_val_score(mnb,features,Y,cv=10,scoring='roc_auc')\n",
    "X"
   ]
  },
  {
   "cell_type": "markdown",
   "metadata": {},
   "source": [
    "## 4.输出结果"
   ]
  },
  {
   "cell_type": "code",
   "execution_count": 16,
   "metadata": {},
   "outputs": [
    {
     "data": {
      "text/plain": [
       "{'ID': array([   1,    2,    3, ..., 2710, 2711, 2712]),\n",
       " 'Pred': array([0.41612916, 0.03755352, 0.52017414, ..., 0.76806404, 0.6015265 ,\n",
       "        0.80126074])}"
      ]
     },
     "execution_count": 16,
     "metadata": {},
     "output_type": "execute_result"
    }
   ],
   "source": [
    "test = pd.read_csv(\"20190520_test.csv\",lineterminator='\\n')\n",
    "mnb.fit(tfidf.transform(X),Y)\n",
    "pred = mnb.predict_proba(tfidf.transform(test.review))\n",
    "pred\n",
    "data = {'ID':np.array(test['ID']),\"Pred\":pred[:,1]}\n",
    "pd.DataFrame(data).to_csv('atest_pred2.csv', header=True,index=False)\n",
    "data"
   ]
  },
  {
   "cell_type": "code",
   "execution_count": 26,
   "metadata": {},
   "outputs": [
    {
     "data": {
      "text/plain": [
       "array([[0.00825091, 0.99174909],\n",
       "       [0.02411725, 0.97588275],\n",
       "       [0.05489165, 0.94510835],\n",
       "       ...,\n",
       "       [0.38976453, 0.61023547],\n",
       "       [0.59693397, 0.40306603],\n",
       "       [0.72226277, 0.27773723]])"
      ]
     },
     "execution_count": 26,
     "metadata": {},
     "output_type": "execute_result"
    }
   ],
   "source": [
    "test = pd.read_csv(\"20190513_test.csv\",lineterminator='\\n')\n",
    "best_lr_tfidf.fit(best_tfidf.transform(X),Y)\n",
    "pred = best_lr_tfidf.predict_proba(best_tfidf.transform(test['review']))\n",
    "pred\n",
    "best_tfidf.transform(d['review']).toarray()\n",
    "pred"
   ]
  },
  {
   "cell_type": "code",
   "execution_count": 33,
   "metadata": {},
   "outputs": [
    {
     "data": {
      "text/plain": [
       "{'ID': array([   1,    2,    3, ..., 2710, 2711, 2712]),\n",
       " 'Pred': array([0.99174909, 0.97588275, 0.94510835, ..., 0.61023547, 0.40306603,\n",
       "        0.27773723])}"
      ]
     },
     "execution_count": 33,
     "metadata": {},
     "output_type": "execute_result"
    }
   ],
   "source": [
    "data = {'ID':np.array(test['ID']),\"Pred\":pred[:,1]}\n",
    "pd.DataFrame(data).to_csv('atest_pred.csv', header=True,index=False)\n",
    "data"
   ]
  },
  {
   "cell_type": "code",
   "execution_count": null,
   "metadata": {},
   "outputs": [],
   "source": []
  }
 ],
 "metadata": {
  "kernelspec": {
   "display_name": "Python 3",
   "language": "python",
   "name": "python3"
  },
  "language_info": {
   "codemirror_mode": {
    "name": "ipython",
    "version": 3
   },
   "file_extension": ".py",
   "mimetype": "text/x-python",
   "name": "python",
   "nbconvert_exporter": "python",
   "pygments_lexer": "ipython3",
   "version": "3.7.3"
  }
 },
 "nbformat": 4,
 "nbformat_minor": 2
}
