{
 "cells": [
  {
   "cell_type": "code",
   "execution_count": 4,
   "metadata": {},
   "outputs": [
    {
     "name": "stdout",
     "output_type": "stream",
     "text": [
      "ID        0\n",
      "review    0\n",
      "label     6\n",
      "dtype: int64\n"
     ]
    }
   ],
   "source": [
    "import pandas as pd\n",
    "d = pd.read_csv(\"train.csv\",lineterminator='\\n')\n",
    "import numpy as np\n",
    "d.label = np.array(d.label == \"Positive\",dtype = 'float')\n",
    "d.isnull().sum()"
   ]
  },
  {
   "cell_type": "code",
   "execution_count": 2,
   "metadata": {},
   "outputs": [],
   "source": [
    "from sklearn.model_selection import train_test_split\n",
    "xd_train,xd_test,yd_train,yd_test = train_test_split(d.review,d.label,random_state = 10)"
   ]
  },
  {
   "cell_type": "code",
   "execution_count": 3,
   "metadata": {},
   "outputs": [],
   "source": [
    "from sklearn.metrics import accuracy_score,roc_auc_score,roc_curve\n",
    "import matplotlib.pyplot as plt\n",
    "def performance(y_true,pred,color='r',ann=True):\n",
    "    acc = accuracy_score(y_true,pred[:,1]>0.5)\n",
    "    auc = roc_auc_score(y_true,pred[:,1])\n",
    "    fpr,tpr,thr = roc_curve(y_true,pred[:,1])\n",
    "    plt.figure()\n",
    "    plt.plot(fpr,tpr,color,linewidth = '1')\n",
    "    plt.xlabel('FPR')\n",
    "    plt.ylabel('TPR')\n",
    "    if ann:\n",
    "        plt.annotate('ACC:{:.2f}'.format(acc),(0.2,0.3),size=14)\n",
    "        plt.annotate('AUC:{:.2f}'.format(auc),(0.2,0.2),size=14)"
   ]
  },
  {
   "cell_type": "code",
   "execution_count": 4,
   "metadata": {},
   "outputs": [],
   "source": [
    "import re\n",
    "\n",
    "emoticons_str = r\"\"\"\n",
    "    (?:\n",
    "        [:=;]   \n",
    "        [oO\\-]?  \n",
    "        [D\\)\\]\\(\\]/\\\\OpP] \n",
    "    )\"\"\"\n",
    "\n",
    "regex_str = [\n",
    "    emoticons_str,\n",
    "    r'<[^>]+>',  # HTML tags\n",
    "    r'(?:@[\\w_]+)',  # @某人\n",
    "    r\"(?:\\#+[\\w_]+[\\w\\'_\\-]*[\\w]+)\",  # 话题标签\n",
    "    r'http[s]?://(?:[a-z]|[0-9]|[$-_@.&amp;+]|[!*\\(\\),]|(?:%[0-9a-f][0-9a-f]))+',  # URLs\n",
    "    r'(?:(?:\\d+,?)+(?:\\.?\\d+)?)',  # 数字\n",
    "    r\"(?:[a-z][a-z'\\-_]+[a-z])\",  # 含有- 和’ 的单词\n",
    "    r'(?:[\\w_]+)',  # 其他\n",
    "    r'(?:\\S)'  # 其他\n",
    "]\n",
    "\n",
    "tokens_re = re.compile(r'(' + '|'.join(regex_str) + ')', re.VERBOSE | re.IGNORECASE)\n",
    "emoticon_re=re.compile(r'^'+emoticons_str+'$',re.VERBOSE|re.IGNORECASE)\n",
    "def tokenize(s):\n",
    "    return tokens_re.findall(s)\n",
    "import string\n",
    "def transform(X):\n",
    "    ls = []\n",
    "    punc = string.punctuation\n",
    "    for review in X:\n",
    "        tokens = tokenize(review)\n",
    "        tokens_dict = {}\n",
    "        for token in tokens:\n",
    "#             if token in punc:\n",
    "#                 continue\n",
    "            token = token.lower()\n",
    "            if token in tokens_dict.keys():\n",
    "                token_num = tokens_dict[token]+1\n",
    "            else:\n",
    "                token_num = 1\n",
    "            tokens_dict[token] = token_num\n",
    "        ls.append(tokens_dict)\n",
    "    return ls"
   ]
  },
  {
   "cell_type": "code",
   "execution_count": 5,
   "metadata": {},
   "outputs": [
    {
     "data": {
      "text/plain": [
       "array([[0., 0., 0., ..., 0., 0., 0.],\n",
       "       [0., 0., 0., ..., 0., 0., 0.],\n",
       "       [0., 0., 0., ..., 0., 0., 0.],\n",
       "       ...,\n",
       "       [0., 0., 0., ..., 0., 0., 0.],\n",
       "       [0., 0., 0., ..., 0., 0., 0.],\n",
       "       [0., 0., 0., ..., 0., 0., 0.]])"
      ]
     },
     "execution_count": 5,
     "metadata": {},
     "output_type": "execute_result"
    }
   ],
   "source": [
    "from sklearn.feature_extraction import DictVectorizer\n",
    "dict_vectorizer = DictVectorizer()\n",
    "features = dict_vectorizer.fit_transform(transform(xd_train))\n",
    "test_features = dict_vectorizer.transform(transform(xd_test))\n",
    "features.toarray()"
   ]
  },
  {
   "cell_type": "code",
   "execution_count": 6,
   "metadata": {},
   "outputs": [
    {
     "data": {
      "image/png": "[encoded data removed]",
      "text/plain": [
       "<Figure size 432x288 with 1 Axes>"
      ]
     },
     "metadata": {
      "needs_background": "light"
     },
     "output_type": "display_data"
    }
   ],
   "source": [
    "from sklearn.naive_bayes import MultinomialNB\n",
    "model1 = MultinomialNB()\n",
    "model1.fit(features,yd_train)\n",
    "pred1 = model1.predict_proba(test_features)\n",
    "performance(yd_test,pred1)"
   ]
  },
  {
   "cell_type": "code",
   "execution_count": 7,
   "metadata": {},
   "outputs": [],
   "source": [
    "from sklearn.feature_extraction.text import TfidfTransformer\n",
    "transformer = TfidfTransformer()\n",
    "tfidf_features = transformer.fit_transform(features.toarray())\n",
    "tfidf_test_features = transformer.transform(test_features.toarray())"
   ]
  },
  {
   "cell_type": "code",
   "execution_count": 8,
   "metadata": {},
   "outputs": [
    {
     "data": {
      "image/png": "[encoded data removed]",
      "text/plain": [
       "<Figure size 432x288 with 1 Axes>"
      ]
     },
     "metadata": {
      "needs_background": "light"
     },
     "output_type": "display_data"
    }
   ],
   "source": [
    "model1 = MultinomialNB()\n",
    "model1.fit(tfidf_features,yd_train)\n",
    "pred1 = model1.predict_proba(tfidf_test_features)\n",
    "performance(yd_test,pred1)"
   ]
  },
  {
   "cell_type": "code",
   "execution_count": null,
   "metadata": {},
   "outputs": [],
   "source": [
    "def build_model(nb_alpha=1.0):\n",
    "    transformer = TfidfTransformer()\n",
    "    tfidf_features = transformer.fit_transform(features.toarray())\n",
    "    tfidf_test_features = transformer.transform(test_features.toarray())\n",
    "    model2 = MultinomialNB(alpha=nb_alpha)\n",
    "    model2.fit(tfidf_features,yd_train)\n",
    "    pred2 = model2.predict_proba(tfidf_test_features)\n",
    "    return {\n",
    "        'nb_alpha':nb_alpha,\n",
    "        'auc':roc_auc_score(yd_test,pred2[:,1])\n",
    "    }"
   ]
  },
  {
   "cell_type": "code",
   "execution_count": null,
   "metadata": {},
   "outputs": [],
   "source": [
    "from itertools import product\n",
    "param_values = {\n",
    "    'nb_alpha':[0.2,0.25,0.3,0.35,0.4,0.5]\n",
    "}\n",
    "results = []\n",
    "for p in product(*param_values.values()):\n",
    "    res = build_model(**dict(zip(param_values.keys(),p)))\n",
    "    results.append(res)\n",
    "    print(res)"
   ]
  },
  {
   "cell_type": "code",
   "execution_count": null,
   "metadata": {},
   "outputs": [],
   "source": []
  },
  {
   "cell_type": "code",
   "execution_count": 14,
   "metadata": {},
   "outputs": [
    {
     "data": {
      "image/png": "[encoded data removed]",
      "text/plain": [
       "<Figure size 432x288 with 1 Axes>"
      ]
     },
     "metadata": {
      "needs_background": "light"
     },
     "output_type": "display_data"
    }
   ],
   "source": [
    "transformer = TfidfTransformer()\n",
    "tfidf_features = transformer.fit_transform(dict_vectorizer.transform(transform(xd_train)))\n",
    "tfidf_test_features = transformer.transform(dict_vectorizer.transform(transform(xd_test)))\n",
    "model1 = MultinomialNB()\n",
    "model1.fit(tfidf_features,yd_train)\n",
    "pred1 = model1.predict_proba(tfidf_test_features)\n",
    "performance(yd_test,pred1)"
   ]
  },
  {
   "cell_type": "code",
   "execution_count": 15,
   "metadata": {},
   "outputs": [
    {
     "data": {
      "text/plain": [
       "array([[1.65861563e-04, 9.99834138e-01],\n",
       "       [1.79625865e-02, 9.82037414e-01],\n",
       "       [8.71579375e-04, 9.99128421e-01],\n",
       "       ...,\n",
       "       [1.17304721e-01, 8.82695279e-01],\n",
       "       [6.67706642e-01, 3.32293358e-01],\n",
       "       [3.59264975e-01, 6.40735025e-01]])"
      ]
     },
     "execution_count": 15,
     "metadata": {},
     "output_type": "execute_result"
    }
   ],
   "source": [
    "test = pd.read_csv(\"20190513_test.csv\",lineterminator='\\n')\n",
    "pred = model1.predict_proba(dict_vectorizer.transform(transform(test.review)))\n",
    "pred"
   ]
  },
  {
   "cell_type": "code",
   "execution_count": 16,
   "metadata": {},
   "outputs": [
    {
     "name": "stderr",
     "output_type": "stream",
     "text": [
      "/home/yang/miniconda3/lib/python3.7/site-packages/sklearn/linear_model/logistic.py:433: FutureWarning: Default solver will be changed to 'lbfgs' in 0.22. Specify a solver to silence this warning.\n",
      "  FutureWarning)\n"
     ]
    },
    {
     "data": {
      "image/png": "[encoded data removed]",
      "text/plain": [
       "<Figure size 432x288 with 1 Axes>"
      ]
     },
     "metadata": {
      "needs_background": "light"
     },
     "output_type": "display_data"
    }
   ],
   "source": [
    "from sklearn.linear_model import LogisticRegression\n",
    "model5 = LogisticRegression()\n",
    "model5.fit(tfidf_features,yd_train)\n",
    "pred5 = model5.predict_proba(tfidf_test_features)\n",
    "performance(yd_test,pred5)"
   ]
  },
  {
   "cell_type": "code",
   "execution_count": null,
   "metadata": {},
   "outputs": [],
   "source": []
  },
  {
   "cell_type": "code",
   "execution_count": null,
   "metadata": {},
   "outputs": [],
   "source": [
    "data = {'ID':np.array(test.ID),'Pred':pred[:,1]}\n",
    "pd.DataFrame(data, columns=['ID', 'Pred']).to_csv('test_pred.csv', header=True)"
   ]
  },
  {
   "cell_type": "code",
   "execution_count": null,
   "metadata": {},
   "outputs": [],
   "source": [
    "from gensim.models.word2vec import Word2Vec"
   ]
  },
  {
   "cell_type": "code",
   "execution_count": null,
   "metadata": {},
   "outputs": [],
   "source": [
    "sentences = transform([\"Tc ? Apky mun xe exe alfax achy nae lgty 😒💃\"])\n",
    "model = Word2Vec(sentences,size=300,window=10,min_count=1,sample=1e-3,workers=2)\n",
    "model.init_sims(replace=True)\n",
    "print(model[''])\n",
    "sentences"
   ]
  },
  {
   "cell_type": "code",
   "execution_count": null,
   "metadata": {},
   "outputs": [],
   "source": [
    "def featurize_w2v(model,sentences):\n",
    "    f = np.zeros((len(sentences),model.vector_size))\n",
    "    for i,s in enumerate(sentences):\n",
    "        for w in s:\n",
    "            try:\n",
    "                vec = model[w]\n",
    "            except KeyError:\n",
    "                continue\n",
    "            f[i,:] = f[i,:]+vec\n",
    "        f[i,:] = f[i,:]/len(s)\n",
    "    return f"
   ]
  },
  {
   "cell_type": "code",
   "execution_count": null,
   "metadata": {},
   "outputs": [],
   "source": [
    "sentences = transform(xd_train)\n",
    "model = Word2Vec(sentences)\n",
    "model.init_sims(replace=True)\n",
    "features_w2v = featurize_w2v(model,[x.keys()for x in sentences])\n",
    "for x in sentences:\n",
    "    print(x.keys())"
   ]
  },
  {
   "cell_type": "code",
   "execution_count": null,
   "metadata": {},
   "outputs": [],
   "source": [
    "from sklearn.ensemble import RandomForestClassifier\n",
    "model4 = RandomForestClassifier(n_estimators=100,n_jobs=-1)\n",
    "model4.fit(features_w2v,yd_train)"
   ]
  },
  {
   "cell_type": "code",
   "execution_count": null,
   "metadata": {},
   "outputs": [],
   "source": [
    "test_sentences = transform(xd_test)\n",
    "test_features_w2v = featurize_w2v(model , [x.keys()for x in test_sentences])\n",
    "pred4 = model4.predict_proba(test_features_w2v)\n",
    "performance(yd_test,pred4)"
   ]
  },
  {
   "cell_type": "code",
   "execution_count": null,
   "metadata": {},
   "outputs": [],
   "source": [
    "from sklearn.linear_model import LogisticRegression"
   ]
  },
  {
   "cell_type": "code",
   "execution_count": null,
   "metadata": {},
   "outputs": [],
   "source": [
    "model5 = LogisticRegression()\n",
    "model5.fit(features_w2v,yd_train)\n",
    "pred5 = model5.predict_proba(test_features_w2v)\n",
    "performance(yd_test,pred5)"
   ]
  },
  {
   "cell_type": "code",
   "execution_count": null,
   "metadata": {},
   "outputs": [],
   "source": []
  }
 ],
 "metadata": {
  "kernelspec": {
   "display_name": "Python 3",
   "language": "python",
   "name": "python3"
  },
  "language_info": {
   "codemirror_mode": {
    "name": "ipython",
    "version": 3
   },
   "file_extension": ".py",
   "mimetype": "text/x-python",
   "name": "python",
   "nbconvert_exporter": "python",
   "pygments_lexer": "ipython3",
   "version": "3.7.3"
  }
 },
 "nbformat": 4,
 "nbformat_minor": 2
}
